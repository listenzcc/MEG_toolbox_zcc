{
 "cells": [
  {
   "cell_type": "code",
   "execution_count": 1,
   "metadata": {},
   "outputs": [],
   "source": [
    "# %% Importing\n",
    "# System\n",
    "import os\n",
    "import sys\n",
    "\n",
    "# Computing\n",
    "import mne\n",
    "import numpy as np\n",
    "\n",
    "# Plotting\n",
    "import matplotlib.pyplot as plt\n",
    "from surfer import Brain\n",
    "from mayavi import mlab\n",
    "\n",
    "__file__ = os.path.curdir\n",
    "sys.path.append(os.path.join(os.path.dirname(__file__), '..', 'tools'))  # noqa\n",
    "from MEG_worker import MEG_Worker\n",
    "from visualizer import Visualizer\n",
    "from inverse_solver import Inverse_Solver"
   ]
  },
  {
   "cell_type": "code",
   "execution_count": 2,
   "metadata": {},
   "outputs": [
    {
     "data": {
      "text/plain": [
       "{'MNE_COREG_ADVANCED_RENDERING': 'true',\n",
       " 'MNE_COREG_COPY_ANNOT': 'true',\n",
       " 'MNE_COREG_GUESS_MRI_SUBJECT': 'false',\n",
       " 'MNE_COREG_HEAD_HIGH_RES': 'true',\n",
       " 'MNE_COREG_HEAD_OPACITY': '1.0',\n",
       " 'MNE_COREG_INTERACTION': 'trackball',\n",
       " 'MNE_COREG_MARK_INSIDE': 'false',\n",
       " 'MNE_COREG_ORIENT_TO_SURFACE': 'false',\n",
       " 'MNE_COREG_PREPARE_BEM': 'true',\n",
       " 'MNE_COREG_PROJECT_EEG': 'false',\n",
       " 'MNE_COREG_SCALE_BY_DISTANCE': 'false',\n",
       " 'MNE_COREG_SCALE_LABELS': 'true',\n",
       " 'MNE_COREG_SCENE_SCALE': '0.16',\n",
       " 'MNE_COREG_SUBJECTS_DIR': '/home/zcc/documents/freesurfer/subjects',\n",
       " 'MNE_COREG_WINDOW_HEIGHT': '798',\n",
       " 'MNE_COREG_WINDOW_WIDTH': '1148',\n",
       " 'MNE_DATASETS_SAMPLE_PATH': '/home/zcc/mne_data',\n",
       " 'MNE_DATASETS_SPM_FACE_PATH': '/home/zcc/mne_data',\n",
       " 'MNE_USE_CUDA': 'true',\n",
       " 'SUBJECTS_DIR': '/nfs/diskstation/zccdata/freesurfer/subjects',\n",
       " 'SUBJECT_DIR': '/nfs/diskstation/zccdata/freesurfer/subjects'}"
      ]
     },
     "execution_count": 2,
     "metadata": {},
     "output_type": "execute_result"
    }
   ],
   "source": [
    "mne.utils.get_config()"
   ]
  },
  {
   "cell_type": "code",
   "execution_count": 3,
   "metadata": {},
   "outputs": [
    {
     "name": "stdout",
     "output_type": "stream",
     "text": [
      "    Reading a source space...\n",
      "    Computing patch statistics...\n",
      "    Patch information added...\n",
      "    Distance information added...\n",
      "    [done]\n",
      "    Reading a source space...\n",
      "    Computing patch statistics...\n",
      "    Patch information added...\n",
      "    Distance information added...\n",
      "    [done]\n",
      "    2 source spaces read\n"
     ]
    },
    {
     "data": {
      "text/plain": [
       "<SourceSpaces: [<surface (lh), n_vertices=163842, n_used=4098>, <surface (rh), n_vertices=163842, n_used=4098>] MRI (surface RAS) coords, subject 'fsaverage'>"
      ]
     },
     "execution_count": 3,
     "metadata": {},
     "output_type": "execute_result"
    }
   ],
   "source": [
    "try:\n",
    "    src_fsaverage = mne.read_source_spaces('fsaverage_src.fif')\n",
    "except:\n",
    "    src_fsaverage = mne.setup_source_space('fsaverage', spacing='oct6', n_jobs=40)\n",
    "    mne.write_source_spaces('src_fsaverage_src.fif', src)\n",
    "src_fsaverage"
   ]
  },
  {
   "cell_type": "code",
   "execution_count": null,
   "metadata": {
    "scrolled": true
   },
   "outputs": [],
   "source": [
    "# %%\n",
    "# DO NOT RUN THIS UNLESS YOU WANT TO RECOMPUTE STC\n",
    "stcs = dict()\n",
    "stcs_baseline = dict()\n",
    "\n",
    "spacing = [s['vertno'] for s in src_fsaverage]\n",
    "\n",
    "for idx in range(1, 11):\n",
    "    running_name = f'MEG_S{idx:02d}'\n",
    "    band_name = 'U07'\n",
    "\n",
    "    worker = MEG_Worker(running_name=running_name)\n",
    "    worker.pipeline(band_name=band_name)\n",
    "\n",
    "    # %%\n",
    "    # epochs = worker.denoise_epochs['3']\n",
    "    epochs = worker.clean_epochs\n",
    "    epochs_baseline = worker.epochs['2']\n",
    "    solver = Inverse_Solver(running_name=running_name)\n",
    "    solver.pipeline(epochs=epochs,\n",
    "                    raw_info=worker.raw.info)\n",
    "\n",
    "    # %%\n",
    "    stc, stc_fsaverage = solver.estimate(obj=epochs.average(), spacing=spacing)\n",
    "    stc, stc_fsaverage_baseline = solver.estimate(obj=epochs_baseline.average(), spacing=spacing)\n",
    "    \n",
    "    stcs[running_name] = stc_fsaverage\n",
    "    stcs_baseline[running_name] = stc_fsaverage_baseline\n",
    "    \n",
    "display(stcs)\n",
    "display(stcs_baseline)\n",
    "\n",
    "data = stc_fsaverage.data * 0\n",
    "for running_name in stcs:\n",
    "    data += stcs[running_name].data\n",
    "stc_fsaverage.data = data / len(stcs)\n",
    "\n",
    "data = stc_fsaverage_baseline.data * 0\n",
    "for running_name in stcs_baseline:\n",
    "    data += stcs_baseline[running_name].data\n",
    "stc_fsaverage_baseline.data = data / len(stcs)\n",
    "\n",
    "stc_fsaverage.save('stc_fsaverage')\n",
    "stc_fsaverage_baseline.save('stc_fsaverage_baseline')"
   ]
  },
  {
   "cell_type": "code",
   "execution_count": null,
   "metadata": {
    "scrolled": true
   },
   "outputs": [],
   "source": [
    "# %%\n",
    "mne.viz.set_3d_backend('pyvista')\n",
    "\n",
    "label_list_aparc = mne.read_labels_from_annot('fsaverage', 'aparc', 'both')\n",
    "label_list_visuotopic = mne.read_labels_from_annot('fsaverage', 'PALS_B12_Visuotopic', 'both')\n",
    "\n",
    "display(label_list_aparc)\n",
    "display(label_list_visuotopic)\n",
    "\n",
    "labels = dict()\n",
    "\n",
    "for j, label in enumerate(label_list_visuotopic):\n",
    "    if label.name.startswith('Visuotopic'):\n",
    "        labels[label.name] = label\n",
    "        \n",
    "ROIs = ['fusiform',\n",
    "        'temporal',\n",
    "       ]\n",
    "for j, label in enumerate(label_list_aparc):\n",
    "    labels[label.name] = label\n",
    "        "
   ]
  },
  {
   "cell_type": "code",
   "execution_count": null,
   "metadata": {},
   "outputs": [],
   "source": [
    "# DO NOT RUN THIS,\n",
    "# IT IS VERY SLOW\n",
    "if False:\n",
    "    brain = Brain(subject_id='fsaverage',\n",
    "                  hemi='split',\n",
    "                  surf='inflated',\n",
    "                  cortex='low_contrast',\n",
    "                  background='white',\n",
    "                  size=(800, 600))\n",
    "    # brain.add_annotation('aparc')\n",
    "    # brain.add_annotation(label_name)\n",
    "    for name in labels:\n",
    "        print(name)\n",
    "        brain.add_label(labels[name], borders=True)\n",
    "    print('Done.')\n",
    "\n",
    "    mlab.show()"
   ]
  },
  {
   "cell_type": "code",
   "execution_count": null,
   "metadata": {},
   "outputs": [],
   "source": [
    "stc_fsaverage = mne.read_source_estimate('stc_fsaverage')\n",
    "stc_fsaverage_baseline = mne.read_source_estimate('stc_fsaverage_baseline')\n",
    "\n",
    "stc = stc_fsaverage_baseline\n",
    "stc.data = stc_fsaverage.data - stc_fsaverage_baseline.data\n",
    "stc"
   ]
  },
  {
   "cell_type": "code",
   "execution_count": null,
   "metadata": {},
   "outputs": [],
   "source": [
    "alldata = sorted(stc.data.ravel(), reverse=True)\n",
    "n = len(alldata)\n",
    "LIMS = [alldata[int(n * r)] for r in [0.05, 0.01, 0.005, 0]]\n",
    "LIMS"
   ]
  },
  {
   "cell_type": "code",
   "execution_count": null,
   "metadata": {},
   "outputs": [],
   "source": [
    "lims = LIMS[1:]\n",
    "\n",
    "from sklearn.manifold import TSNE\n",
    "\n",
    "data = stc.data\n",
    "large_data = data[np.max(data, axis=1) > lims[0]]\n",
    "large_data.shape, data.shape\n",
    "\n",
    "tsne = TSNE(n_components=2, n_jobs=40)\n",
    "proj_data = tsne.fit_transform(data.transpose())\n",
    "\n",
    "plt.style.use('ggplot')\n",
    "fig, ax = plt.subplots(1, 1, figsize=(8, 8))\n",
    "\n",
    "ax.scatter(proj_data[:, 0], proj_data[:, 1], range(141), alpha=0.5)\n",
    "ax.plot(proj_data[:, 0], proj_data[:, 1])\n",
    "\n",
    "idxs = []\n",
    "for t in [0.0, 0.3, 0.5, 0.8]:\n",
    "    idx = np.where(t == stc.times)[0][0]\n",
    "    ax.text(proj_data[idx, 0]+0.2, proj_data[idx, 1]+0.2, t, fontdict=dict(size=15))\n",
    "    idxs.append(idx)\n",
    "    \n",
    "ax.scatter(proj_data[idxs, 0], proj_data[idxs, 1], 100)\n",
    "ax.set_title('TSNE')\n",
    "\n",
    "fig.savefig('TSNE.png')"
   ]
  },
  {
   "cell_type": "code",
   "execution_count": null,
   "metadata": {},
   "outputs": [],
   "source": [
    "ts = mne.extract_label_time_course(stc, label_list_aparc, src_fsaverage, mode='mean_flip', allow_empty=True, return_generator=True)\n",
    "ts.shape"
   ]
  },
  {
   "cell_type": "code",
   "execution_count": null,
   "metadata": {},
   "outputs": [],
   "source": [
    "con, freqs, times, n_epochs, n_tapers = mne.connectivity.spectral_connectivity(\n",
    "    ts, method='pli', mode='multitaper', sfreq=stc.sfreq, fmin=0.1, fmax=7, faverage=True, mt_adaptive=True, n_jobs=32)"
   ]
  },
  {
   "cell_type": "code",
   "execution_count": null,
   "metadata": {},
   "outputs": [],
   "source": [
    "lims = LIMS[1:]\n",
    "\n",
    "plt.style.use('ggplot')\n",
    "fig, axes = plt.subplots(1, 2, figsize=(8, 10))\n",
    "\n",
    "times = stc.times\n",
    "select_labels = dict()\n",
    "for name in labels:\n",
    "    label = labels[name]\n",
    "    color = label.color\n",
    "    try:\n",
    "        stc_inlabel = stc.in_label(label)\n",
    "    except ValueError:\n",
    "        continue\n",
    "    data = stc_inlabel.data\n",
    "    data = data[np.max(data, axis=1) > lims[1]]\n",
    "    if len(data) < 10:\n",
    "        continue\n",
    "    # print(name, color, data.shape)\n",
    "    \n",
    "#     sort = sorted(data.ravel(), reverse=True)\n",
    "#     if sort[1000] < lims[0]:\n",
    "#         continue\n",
    "    \n",
    "    mean_data = np.mean(data, axis=0)\n",
    "    \n",
    "    if name.endswith('-lh'):\n",
    "        ax = axes[0]\n",
    "    else:\n",
    "        ax = axes[1]\n",
    "        \n",
    "    ax.plot(times, mean_data, c=color, label=f'{name}-{len(data)}', alpha=0.5, linewidth=3)\n",
    "    \n",
    "    select_labels[name] = label\n",
    "\n",
    "for j in [0, 1]:\n",
    "    axes[j].legend(loc='upper left', bbox_to_anchor=(0, -0.1))\n",
    "    \n",
    "axes[0].set_title('LEFT')\n",
    "axes[1].set_title('RIGHT')\n",
    "\n",
    "fig.tight_layout()\n",
    "fig.savefig('WaveForm.png')"
   ]
  },
  {
   "cell_type": "code",
   "execution_count": null,
   "metadata": {},
   "outputs": [],
   "source": [
    "lims = LIMS[1:]\n",
    "mne.viz.set_3d_backend('pyvista')\n",
    "views = ['lat']\n",
    "clim = dict(kind='value', lims=lims)\n",
    "surfer_kwargs = dict(hemi='both',\n",
    "                     clim=clim,\n",
    "                     views=views,\n",
    "                     initial_time=0.3,\n",
    "                     time_unit='s',\n",
    "                     size=(800, 800),\n",
    "                     smoothing_steps=10,\n",
    "                     time_viewer=True,\n",
    "                     subject='fsaverage')\n",
    "\n",
    "# This can not be operated using VS code\n",
    "brain = stc.plot(**surfer_kwargs)\n",
    "\n",
    "for name in select_labels:\n",
    "    print(name)\n",
    "    brain.add_label(labels[name], borders=True)\n",
    "\n",
    "# mlab.show()"
   ]
  },
  {
   "cell_type": "code",
   "execution_count": null,
   "metadata": {},
   "outputs": [],
   "source": [
    "lims = LIMS[:3]\n",
    "mne.viz.set_3d_backend('pyvista')\n",
    "views = ['lat', 'med', 'cau', 'dor', 'ven']\n",
    "clim = dict(kind='value', lims=lims)\n",
    "surfer_kwargs = dict(hemi='both',\n",
    "                     clim=clim,\n",
    "                     views=views,\n",
    "                     initial_time=0.5,\n",
    "                     time_unit='s',\n",
    "                     size=(800, 800),\n",
    "                     smoothing_steps=10,\n",
    "                     time_viewer=False,\n",
    "                     subject='fsaverage')\n",
    "\n",
    "# This can not be operated using VS code\n",
    "brain = stc.plot(**surfer_kwargs)\n",
    "\n",
    "# for name in select_labels:\n",
    "#     print(name)\n",
    "#     brain.add_label(labels[name], borders=True)\n",
    "\n",
    "# mlab.show()"
   ]
  },
  {
   "cell_type": "code",
   "execution_count": null,
   "metadata": {},
   "outputs": [],
   "source": []
  },
  {
   "cell_type": "code",
   "execution_count": null,
   "metadata": {},
   "outputs": [],
   "source": []
  }
 ],
 "metadata": {
  "kernelspec": {
   "display_name": "Python 3",
   "language": "python",
   "name": "python3"
  },
  "language_info": {
   "codemirror_mode": {
    "name": "ipython",
    "version": 3
   },
   "file_extension": ".py",
   "mimetype": "text/x-python",
   "name": "python",
   "nbconvert_exporter": "python",
   "pygments_lexer": "ipython3",
   "version": "3.7.6"
  }
 },
 "nbformat": 4,
 "nbformat_minor": 4
}
