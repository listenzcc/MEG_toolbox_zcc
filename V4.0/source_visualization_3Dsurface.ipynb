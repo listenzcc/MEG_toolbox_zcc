{
 "cells": [
  {
   "cell_type": "markdown",
   "metadata": {},
   "source": [
    "# Source Visualization in 3D Surface\n",
    "The reason of using jupyter notebook is the 3D backend fails on vscode's jupyter support of .py file"
   ]
  },
  {
   "cell_type": "code",
   "execution_count": 5,
   "metadata": {},
   "outputs": [],
   "source": [
    "import os\n",
    "import mne\n",
    "import numpy as np\n",
    "import pandas as pd\n",
    "import matplotlib.pyplot as plt\n",
    "\n",
    "from toolbox.estimate_source import SourceEstimator, get_stuff\n",
    "from get_epochs import get_all_epochs"
   ]
  },
  {
   "cell_type": "markdown",
   "metadata": {},
   "source": [
    "## Setup Freesurfer Environ Variables"
   ]
  },
  {
   "cell_type": "code",
   "execution_count": 6,
   "metadata": {},
   "outputs": [
    {
     "name": "stdout",
     "output_type": "stream",
     "text": [
      "Using pyvista 3d backend.\n",
      "\n"
     ]
    }
   ],
   "source": [
    "if not '__file__' in dir():\n",
    "    __file__ = os.path.join(os.path.abspath(''), '__fake__file__')\n",
    "    \n",
    "def set_freesurfer_environ():\n",
    "    freesurfer_folder = os.path.join(os.path.dirname(__file__),\n",
    "                                     '_link_freesurfer')\n",
    "    mne.utils.set_config('SUBJECTS_DIR',\n",
    "                         os.path.join(freesurfer_folder, 'subjects'))\n",
    "    mne.viz.set_3d_backend('pyvista')\n",
    "\n",
    "\n",
    "set_freesurfer_environ()"
   ]
  },
  {
   "cell_type": "markdown",
   "metadata": {},
   "source": [
    "## Source Estimation"
   ]
  },
  {
   "cell_type": "code",
   "execution_count": 7,
   "metadata": {
    "scrolled": true
   },
   "outputs": [
    {
     "name": "stdout",
     "output_type": "stream",
     "text": [
      "Got 10 stcs\n"
     ]
    },
    {
     "data": {
      "text/plain": [
       "<SourceEstimate | 81924 vertices, tmin : -200.0 (ms), tmax : 1200.0000000000002 (ms), tstep : 10.0 (ms), data shape : (81924, 141), ~44.7 MB>"
      ]
     },
     "execution_count": 7,
     "metadata": {},
     "output_type": "execute_result"
    }
   ],
   "source": [
    "# Settings\n",
    "stc_folder = os.path.join('MiddleResults', 'SourceEstimation')\n",
    "\n",
    "# Averaged multiple stc\n",
    "# Get mutiple stcs\n",
    "stcs = []\n",
    "for subject_name in [f'MEG_S{e:02d}-morph' for e in range(1, 11)]:\n",
    "    stcs.append(mne.read_source_estimate(os.path.join(stc_folder, subject_name)))\n",
    "print(f'Got {len(stcs)} stcs')\n",
    "\n",
    "# Average them\n",
    "stc = stcs[0]\n",
    "for j, s in enumerate(stcs):\n",
    "    if j== 0:\n",
    "        continue\n",
    "    stc.data += s.data\n",
    "stc.data /= len(stcs)\n",
    "stc"
   ]
  },
  {
   "cell_type": "markdown",
   "metadata": {},
   "source": [
    "## Draw the stc using 3D-backend\n",
    "A X11 frame will a time-sliding view will be established,\n",
    "since the **pyvista** 3D backend is used.\n",
    "\n",
    "**It will be slow, be patient**"
   ]
  },
  {
   "cell_type": "code",
   "execution_count": 9,
   "metadata": {},
   "outputs": [],
   "source": [
    "stc2show = stc.copy()\n",
    "stc2show = stc2show.crop(0, 1)\n",
    "\n",
    "alldata = sorted(stc.data.ravel(), reverse=True)\n",
    "n = len(alldata)\n",
    "lims = [alldata[int(n * r)] for r in [0.05, 0.01, 0]]\n",
    "\n",
    "clim = dict(kind='value', lims=lims)\n",
    "\n",
    "kwargs = dict(hemi='both',\n",
    "              clim=clim,\n",
    "              title='Title',\n",
    "              initial_time=0.3,\n",
    "              time_unit='s',\n",
    "              size=(800, 800),\n",
    "              smoothing_steps=10,\n",
    "              time_viewer=True,\n",
    "              subject='fsaverage')\n",
    "\n",
    "brain = stc2show.plot(**kwargs)"
   ]
  },
  {
   "cell_type": "code",
   "execution_count": 10,
   "metadata": {},
   "outputs": [],
   "source": [
    "# If situation allows, run this block to close the brain in 3D plot\n",
    "brain.close()"
   ]
  },
  {
   "cell_type": "code",
   "execution_count": null,
   "metadata": {},
   "outputs": [],
   "source": []
  }
 ],
 "metadata": {
  "kernelspec": {
   "display_name": "Python 3",
   "language": "python",
   "name": "python3"
  },
  "language_info": {
   "codemirror_mode": {
    "name": "ipython",
    "version": 3
   },
   "file_extension": ".py",
   "mimetype": "text/x-python",
   "name": "python",
   "nbconvert_exporter": "python",
   "pygments_lexer": "ipython3",
   "version": "3.7.6"
  }
 },
 "nbformat": 4,
 "nbformat_minor": 4
}
